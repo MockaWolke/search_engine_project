{
 "cells": [
  {
   "cell_type": "code",
   "execution_count": 1,
   "metadata": {},
   "outputs": [
    {
     "name": "stderr",
     "output_type": "stream",
     "text": [
      "[nltk_data] Downloading package stopwords to stopwords_dir...\n",
      "[nltk_data]   Package stopwords is already up-to-date!\n"
     ]
    }
   ],
   "source": [
    "import requests\n",
    "import flask\n",
    "from bs4 import BeautifulSoup\n",
    "import re\n",
    "from collections import defaultdict\n",
    "from crawler_part1 import *\n",
    "from index import parse_domain_index, INDEX, get_index_for_query\n",
    "\n",
    "# DOMAIN = \"https://vm009.rz.uos.de/crawl/\"\n",
    "DOMAIN = \"https://www.uni-osnabrueck.de/startseite/\""
   ]
  },
  {
   "cell_type": "code",
   "execution_count": 3,
   "metadata": {},
   "outputs": [
    {
     "name": "stderr",
     "output_type": "stream",
     "text": [
      "Crawling the https://www.uni-osnabrueck.de/startseite/ domain.: 100%|██████████| 50/50 [00:13<00:00,  3.60it/s]"
     ]
    },
    {
     "name": "stdout",
     "output_type": "stream",
     "text": [
      "{'https://www.uni-osnabrueck.de/startseite//universitaet/gremien-kandidieren-und-waehlen/', 'https://www.uni-osnabrueck.de/startseite//veranstaltungen/zentrale-veranstaltungen/', 'https://www.uni-osnabrueck.de/startseite//universitaet/foerderung-und-sponsoring/', 'https://www.uni-osnabrueck.de/startseite//universitaet/zahlendatenfakten/kapazitaetsermittlung/', 'https://www.uni-osnabrueck.de/startseite//universitaet/fachbereiche/fachbereich-biologiechemie/', 'https://www.uni-osnabrueck.de/startseite//universitaet/zahlendatenfakten/monitoringsystem/', 'https://www.uni-osnabrueck.de/startseite//universitaet/profil/profillinien/', 'https://www.uni-osnabrueck.de/startseite//universitaet/fachbereiche/fachbereich-humanwissenschaften/', 'https://www.uni-osnabrueck.de/startseite//universitaet/fachbereiche/fachbereich-wirtschaftswissenschaften/', 'https://www.uni-osnabrueck.de/startseite//universitaet/universitaetsarchiv/', 'https://www.uni-osnabrueck.de/startseite//universitaet/zahlendatenfakten/studierendenstatistiken/', 'https://www.uni-osnabrueck.de/startseite//universitaet/weiterbildung/', 'https://www.uni-osnabrueck.de/startseite//universitaet/universitaetsarchiv/historie-des-archivs/', 'https://www.uni-osnabrueck.de/startseite//universitaet/zahlendatenfakten/leistungsbezogene-mittelzuweisung/', 'https://www.uni-osnabrueck.de/startseite//universitaet/universitaetsarchiv/unigeschichte-entdecken/', 'https://www.uni-osnabrueck.de/startseite//universitaet/foerderung-und-sponsoring/weitere-foerdermoeglichkeiten/', 'https://www.uni-osnabrueck.de/startseite//weiterbildung/weiterbildung/lehrerfortbildung/', 'https://www.uni-osnabrueck.de/startseite//universitaet/foerderung-und-sponsoring/foerderpreise/', 'https://www.uni-osnabrueck.de/startseite//universitaet/fachbereiche/fachbereich-sprach-und-literaturwissenschaft/', 'https://www.uni-osnabrueck.de/startseite//kommunikation/kommunikation-und-marketing-angebot-und-aufgaben/pressestelle/', 'https://www.uni-osnabrueck.de/startseite//universitaet/zahlendatenfakten/', 'https://www.uni-osnabrueck.de/startseite//universitaet/universitaetsarchiv/aktenabgabe-schriftgutverwaltung/', 'https://www.uni-osnabrueck.de/startseite//universitaet/zahlendatenfakten/pruefungsstatistiken/', 'https://www.uni-osnabrueck.de/startseite//universitaet/partnerschaften/', 'https://www.uni-osnabrueck.de/startseite//universitaet/fachbereiche/fachbereich-erziehungs-und-kulturwissenschaften/', 'https://www.uni-osnabrueck.de/startseite//universitaet/zahlendatenfakten/forschungsinformationssystem/', 'https://www.uni-osnabrueck.de/startseite//universitaet/profil/', 'https://www.uni-osnabrueck.de/startseite//universitaet/profil/nachhaltigkeit/', 'https://www.uni-osnabrueck.de/startseite//universitaet/zahlendatenfakten/hochschulkennzahlensystem/', 'https://www.uni-osnabrueck.de/startseite//universitaet/foerderung-und-sponsoring/kreis-der-foerderer/', 'https://www.uni-osnabrueck.de/startseite//universitaet/universitaetsarchiv/uniarchiv-nutzen/', 'https://www.uni-osnabrueck.de/startseite//universitaet/foerderung-und-sponsoring/stiftungsprofessuren/', 'https://www.uni-osnabrueck.de/startseite//universitaet/weiterbildung/hochschuldidaktik/', 'https://www.uni-osnabrueck.de/startseite//universitaet/zahlendatenfakten/transparenz-der-forschungforschungsethik/', 'https://www.uni-osnabrueck.de/startseite//universitaet/zahlendatenfakten/veranstaltungsverzeichnis/', 'https://www.uni-osnabrueck.de/startseite//universitaet/fachbereiche/', 'https://www.uni-osnabrueck.de/startseite//universitaet/profil/taetigkeitsbericht-des-praesidiums/', 'https://www.uni-osnabrueck.de/startseite//universitaet/zahlendatenfakten/hochschulpakt/', 'https://www.uni-osnabrueck.de/startseite//universitaet/foerderung-und-sponsoring/deutschlandstipendium/', 'https://www.uni-osnabrueck.de/startseite//universitaet/zahlendatenfakten/studienqualitaetsmittel/', 'https://www.uni-osnabrueck.de/startseite//universitaet/gremien-kandidieren-und-waehlen/wahlen-senat-und-fachbereichsraete/', 'https://www.uni-osnabrueck.de/startseite/', 'https://www.uni-osnabrueck.de/startseite//universitaet/fachbereiche/fachbereich-kultur-und-sozialwissenschaften/', 'https://www.uni-osnabrueck.de/startseite//serviceseiten/kontakt/', 'https://www.uni-osnabrueck.de/startseite//universitaet/fachbereiche/fachbereich-rechtswissenschaften/', 'https://www.uni-osnabrueck.de/startseite//universitaet/zahlendatenfakten/management-informationssystem/', 'https://www.uni-osnabrueck.de/startseite//universitaet/profil/internationalisierung/', 'https://www.uni-osnabrueck.de/startseite//universitaet/zahlendatenfakten/leistungspunkte-verlaufssystem/', 'https://www.uni-osnabrueck.de/startseite//universitaet/fachbereiche/fachbereich-mathematikinformatikphysik/', 'https://www.uni-osnabrueck.de/startseite//universitaet/organisation/'}\n"
     ]
    },
    {
     "name": "stderr",
     "output_type": "stream",
     "text": [
      "\n"
     ]
    }
   ],
   "source": [
    "parse_domain_index(DOMAIN, 50)"
   ]
  },
  {
   "cell_type": "code",
   "execution_count": 4,
   "metadata": {},
   "outputs": [
    {
     "name": "stdout",
     "output_type": "stream",
     "text": [
      "https://www.uni-osnabrueck.de/startseite/\n"
     ]
    }
   ],
   "source": [
    "from whoosh.qparser import QueryParser\n",
    "with get_index_for_query().searcher() as searcher:\n",
    "    # find entries with the words 'first' AND 'last'\n",
    "    query = QueryParser(\"content\", INDEX.schema).parse(\"piehler\")\n",
    "    results = searcher.search(query)\n",
    "    \n",
    "    # print all results\n",
    "    for r in results:\n",
    "        print(r['url'])"
   ]
  },
  {
   "cell_type": "code",
   "execution_count": null,
   "metadata": {},
   "outputs": [],
   "source": []
  }
 ],
 "metadata": {
  "kernelspec": {
   "display_name": "web",
   "language": "python",
   "name": "python3"
  },
  "language_info": {
   "codemirror_mode": {
    "name": "ipython",
    "version": 3
   },
   "file_extension": ".py",
   "mimetype": "text/x-python",
   "name": "python",
   "nbconvert_exporter": "python",
   "pygments_lexer": "ipython3",
   "version": "3.11.5"
  }
 },
 "nbformat": 4,
 "nbformat_minor": 2
}
