{
 "cells": [
  {
   "cell_type": "code",
   "execution_count": 6,
   "metadata": {},
   "outputs": [],
   "source": [
    "import requests\n",
    "import flask\n",
    "from bs4 import BeautifulSoup\n",
    "import re\n",
    "from collections import defaultdict\n",
    "from index import parse_domain_index, get_index_for_query, SCHEMA\n",
    "\n",
    "DOMAIN = \"https://en.wikipedia.org/\""
   ]
  },
  {
   "cell_type": "code",
   "execution_count": 8,
   "metadata": {},
   "outputs": [
    {
     "name": "stdout",
     "output_type": "stream",
     "text": [
      "https://en.wikipedia.org/wiki/Category:Time,_date_and_calendar_templates\n",
      "https://en.wikipedia.org/wiki/Category:Wikipedia-internal_navigational_templates\n",
      "https://en.wikipedia.org/w/index.php?title=Special:UserLogin&returnto=Special%3AUrlShortener\n",
      "https://en.wikipedia.org/wiki/Special:UserLogin\n",
      "https://en.wikipedia.org/w/index.php?title=Special:UserLogin&returnto=Special%3AUrlShortener&returntoquery=url%3Dhttps%253A%252F%252Fen.wikipedia.org%252Fwiki%252FSpecial%253ADownloadAsPdf\n",
      "https://en.wikipedia.org/w/index.php?title=Special:UserLogin&returnto=Special%3AUrlShortener&returntoquery=url%3Dhttps%253A%252F%252Fen.wikipedia.org%252Fw%252Findex.php%253Ftitle%253DSpecial%253ACreateAccount%2526campaign%253DloginCTA%2526returnto%253DSpecial%25253AUrlShortener%2526returntoquery%253Durl%25253Dhttps%2525253A%2525252F%2525252Fen.wikipedia.org%2525252Fwiki%2525252FSpecial%2525253ADownloadAsPdf\n",
      "https://en.wikipedia.org/w/index.php?title=Special:UserLogin&returnto=Special%3AUrlShortener&returntoquery=url%3Dhttps%253A%252F%252Fen.wikipedia.org%252Fw%252Findex.php%253Ftitle%253DSpecial%253ACreateAccount%2526campaign%253DloginCTA%2526returnto%253DSpecial%25253AUrlShortener%2526returntoquery%253Durl%25253Dhttps%2525253A%2525252F%2525252Fen.wikipedia.org%2525252Fw%2525252Findex.php%2525253Ftitle%2525253DSpecial%2525253ACreateAccount%25252526campaign%2525253DloginCTA%25252526returnto%2525253DSpecial%252525253AUrlShortener%25252526returntoquery%2525253Durl%252525253Dhttps%25252525253A%25252525252F%25252525252Fen.wikipedia.org%25252525252Fwiki%25252525252FSpecial%25252525253ADownloadAsPdf\n",
      "https://en.wikipedia.org/w/index.php?title=Special:UserLogin&returnto=Special%3AUrlShortener&returntoquery=url%3Dhttps%253A%252F%252Fen.wikipedia.org%252Fw%252Findex.php%253Ftitle%253DSpecial%253ACreateAccount%2526campaign%253DloginCTA%2526returnto%253DSpecial%25253AUrlShortener%2526returntoquery%253Durl%25253Dhttps%2525253A%2525252F%2525252Fen.wikipedia.org%2525252Fw%2525252Findex.php%2525253Ftitle%2525253DSpecial%2525253ACreateAccount%25252526campaign%2525253DloginCTA%25252526returnto%2525253DSpecial%252525253AUrlShortener%25252526returntoquery%2525253Durl%252525253Dhttps%25252525253A%25252525252F%25252525252Fen.wikipedia.org%25252525252Fw%25252525252Findex.php%25252525253Ftitle%25252525253DSpecial%25252525253ACreateAccount%252525252526campaign%25252525253DloginCTA%252525252526returnto%25252525253DSpecial%2525252525253AUrlShortener%252525252526returntoquery%25252525253Durl%2525252525253Dhttps%252525252525253A%252525252525252F%252525252525252Fen.wikipedia.org%252525252525252Fwiki%252525252525252FSpecial%252525252525253ADownloadAsPdf\n",
      "https://en.wikipedia.org/w/index.php?title=Special:UserLogin&returnto=Special%3AUrlShortener&returntoquery=url%3Dhttps%253A%252F%252Fen.wikipedia.org%252Fw%252Findex.php%253Ftitle%253DSpecial%253ACreateAccount%2526campaign%253DloginCTA%2526returnto%253DSpecial%25253AUrlShortener%2526returntoquery%253Durl%25253Dhttps%2525253A%2525252F%2525252Fen.wikipedia.org%2525252Fw%2525252Findex.php%2525253Ftitle%2525253DSpecial%2525253ACreateAccount%25252526campaign%2525253DloginCTA%25252526returnto%2525253DSpecial%252525253AUrlShortener%25252526returntoquery%2525253Durl%252525253Dhttps%25252525253A%25252525252F%25252525252Fen.wikipedia.org%25252525252Fw%25252525252Findex.php%25252525253Ftitle%25252525253DSpecial%25252525253ACreateAccount%252525252526campaign%25252525253DloginCTA%252525252526returnto%25252525253DSpecial%2525252525253AUrlShortener%252525252526returntoquery%25252525253Durl%2525252525253Dhttps%252525252525253A%252525252525252F%252525252525252Fen.wikipedia.org%252525252525252Fw%252525252525252Findex.php%252525252525253Ftitle%252525252525253DSpecial%252525252525253ACreateAccount%2525252525252526campaign%252525252525253DloginCTA%2525252525252526returnto%252525252525253DSpecial%25252525252525253AUrlShortener%2525252525252526returntoquery%252525252525253Durl%25252525252525253Dhttps%2525252525252525253A%2525252525252525252F%2525252525252525252Fen.wikipedia.org%2525252525252525252Fwiki%2525252525252525252FSpecial%2525252525252525253ADownloadAsPdf\n",
      "https://en.wikipedia.org/w/index.php?title=Special:UserLogin&returnto=Special%3AUrlShortener&returntoquery=url%3Dhttps%253A%252F%252Fen.wikipedia.org%252Fw%252Findex.php%253Ftitle%253DSpecial%253ACreateAccount%2526campaign%253DloginCTA%2526returnto%253DSpecial%25253AUrlShortener%2526returntoquery%253Durl%25253Dhttps%2525253A%2525252F%2525252Fen.wikipedia.org%2525252Fw%2525252Findex.php%2525253Ftitle%2525253DSpecial%2525253ACreateAccount%25252526campaign%2525253DloginCTA%25252526returnto%2525253DSpecial%252525253AUrlShortener%25252526returntoquery%2525253Durl%252525253Dhttps%25252525253A%25252525252F%25252525252Fen.wikipedia.org%25252525252Fw%25252525252Findex.php%25252525253Ftitle%25252525253DSpecial%25252525253ACreateAccount%252525252526campaign%25252525253DloginCTA%252525252526returnto%25252525253DSpecial%2525252525253AUrlShortener%252525252526returntoquery%25252525253Durl%2525252525253Dhttps%252525252525253A%252525252525252F%252525252525252Fen.wikipedia.org%252525252525252Fw%252525252525252Findex.php%252525252525253Ftitle%252525252525253DSpecial%252525252525253ACreateAccount%2525252525252526campaign%252525252525253DloginCTA%2525252525252526returnto%252525252525253DSpecial%25252525252525253AUrlShortener%2525252525252526returntoquery%252525252525253Durl%25252525252525253Dhttps%2525252525252525253A%2525252525252525252F%2525252525252525252Fen.wikipedia.org%2525252525252525252Fw%2525252525252525252Findex.php%2525252525252525253Ftitle%2525252525252525253DSpecial%2525252525252525253ACreateAccount%25252525252525252526campaign%2525252525252525253DloginCTA%25252525252525252526returnto%2525252525252525253DSpecial%252525252525252525253AUrlShortener%25252525252525252526returntoquery%2525252525252525253Durl%252525252525252525253Dhttps%25252525252525252525253A%25252525252525252525252F%25252525252525252525252Fen.wikipedia.org%25252525252525252525252Fwiki%25252525252525252525252FSpecial%25252525252525252525253ADownloadAsPdf\n"
     ]
    }
   ],
   "source": [
    "from whoosh.qparser import QueryParser\n",
    "\n",
    "index = get_index_for_query(\"wikipedia_big\")\n",
    "\n",
    "with index.searcher() as searcher:\n",
    "    # find entries with the words 'first' AND 'last'\n",
    "    query = QueryParser(\"content\", index.schema).parse(\"year\")\n",
    "    results = searcher.search(query)\n",
    "    \n",
    "    # print all results\n",
    "    for r in results:\n",
    "        print(r['url'])"
   ]
  },
  {
   "cell_type": "code",
   "execution_count": null,
   "metadata": {},
   "outputs": [],
   "source": []
  },
  {
   "cell_type": "code",
   "execution_count": 4,
   "metadata": {},
   "outputs": [
    {
     "name": "stdout",
     "output_type": "stream",
     "text": [
      "content:webpräsenz\n"
     ]
    }
   ],
   "source": [
    "with get_index_for_query().searcher() as searcher:\n",
    "    # find entries with the words 'first' AND 'last'\n",
    "    print(QueryParser(\"content\", INDEX.schema).parse(\"webpräsenz\"))"
   ]
  },
  {
   "cell_type": "code",
   "execution_count": null,
   "metadata": {},
   "outputs": [],
   "source": []
  }
 ],
 "metadata": {
  "kernelspec": {
   "display_name": "web",
   "language": "python",
   "name": "python3"
  },
  "language_info": {
   "codemirror_mode": {
    "name": "ipython",
    "version": 3
   },
   "file_extension": ".py",
   "mimetype": "text/x-python",
   "name": "python",
   "nbconvert_exporter": "python",
   "pygments_lexer": "ipython3",
   "version": "3.11.5"
  }
 },
 "nbformat": 4,
 "nbformat_minor": 2
}
